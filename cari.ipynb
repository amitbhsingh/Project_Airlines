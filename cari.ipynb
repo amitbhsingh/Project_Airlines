{
 "cells": [
  {
   "cell_type": "code",
   "execution_count": 62,
   "metadata": {},
   "outputs": [],
   "source": [
    "import pandas as pd\n",
    "import glob as glob\n",
    "import matplotlib.pyplot as plt\n",
    "import seaborn as sns"
   ]
  },
  {
   "cell_type": "code",
   "execution_count": 48,
   "metadata": {},
   "outputs": [],
   "source": [
    "df1=pd.read_csv(\"FirstQuarter2008.csv\")"
   ]
  },
  {
   "cell_type": "code",
   "execution_count": 52,
   "metadata": {},
   "outputs": [
    {
     "data": {
      "text/html": [
       "<div>\n",
       "<style scoped>\n",
       "    .dataframe tbody tr th:only-of-type {\n",
       "        vertical-align: middle;\n",
       "    }\n",
       "\n",
       "    .dataframe tbody tr th {\n",
       "        vertical-align: top;\n",
       "    }\n",
       "\n",
       "    .dataframe thead th {\n",
       "        text-align: right;\n",
       "    }\n",
       "</style>\n",
       "<table border=\"1\" class=\"dataframe\">\n",
       "  <thead>\n",
       "    <tr style=\"text-align: right;\">\n",
       "      <th></th>\n",
       "      <th>Year</th>\n",
       "      <th>Quarter</th>\n",
       "      <th>tbl</th>\n",
       "      <th>large_ms</th>\n",
       "      <th>fare_lg</th>\n",
       "      <th>lf_ms</th>\n",
       "      <th>fare_low</th>\n",
       "      <th>origin_cty</th>\n",
       "      <th>dest_cty</th>\n",
       "      <th>origin_apt</th>\n",
       "      <th>dest_apt</th>\n",
       "      <th>distance</th>\n",
       "      <th>passengers</th>\n",
       "      <th>fare</th>\n",
       "      <th>carrier_lg</th>\n",
       "      <th>carrier_low</th>\n",
       "    </tr>\n",
       "  </thead>\n",
       "  <tbody>\n",
       "    <tr>\n",
       "      <th>0</th>\n",
       "      <td>2008</td>\n",
       "      <td>1</td>\n",
       "      <td>Table 1a</td>\n",
       "      <td>0.00</td>\n",
       "      <td>0.00</td>\n",
       "      <td>0.00</td>\n",
       "      <td>9999.00</td>\n",
       "      <td>2200</td>\n",
       "      <td>23210</td>\n",
       "      <td>ABE</td>\n",
       "      <td>DAL</td>\n",
       "      <td>1300</td>\n",
       "      <td>0.109890</td>\n",
       "      <td>393.030000</td>\n",
       "      <td>NaN</td>\n",
       "      <td>NaN</td>\n",
       "    </tr>\n",
       "    <tr>\n",
       "      <th>1</th>\n",
       "      <td>2008</td>\n",
       "      <td>1</td>\n",
       "      <td>Table 1a</td>\n",
       "      <td>36.41</td>\n",
       "      <td>301.27</td>\n",
       "      <td>32.31</td>\n",
       "      <td>282.57</td>\n",
       "      <td>2200</td>\n",
       "      <td>23210</td>\n",
       "      <td>ABE</td>\n",
       "      <td>DFW</td>\n",
       "      <td>1308</td>\n",
       "      <td>21.428571</td>\n",
       "      <td>294.175180</td>\n",
       "      <td>US</td>\n",
       "      <td>DL</td>\n",
       "    </tr>\n",
       "    <tr>\n",
       "      <th>2</th>\n",
       "      <td>2008</td>\n",
       "      <td>1</td>\n",
       "      <td>Table 1a</td>\n",
       "      <td>93.33</td>\n",
       "      <td>308.87</td>\n",
       "      <td>93.33</td>\n",
       "      <td>308.87</td>\n",
       "      <td>2200</td>\n",
       "      <td>37320</td>\n",
       "      <td>ABE</td>\n",
       "      <td>HOU</td>\n",
       "      <td>1351</td>\n",
       "      <td>1.648352</td>\n",
       "      <td>303.341333</td>\n",
       "      <td>DL</td>\n",
       "      <td>DL</td>\n",
       "    </tr>\n",
       "    <tr>\n",
       "      <th>3</th>\n",
       "      <td>2008</td>\n",
       "      <td>1</td>\n",
       "      <td>Table 1a</td>\n",
       "      <td>58.40</td>\n",
       "      <td>268.94</td>\n",
       "      <td>58.40</td>\n",
       "      <td>268.94</td>\n",
       "      <td>2200</td>\n",
       "      <td>37320</td>\n",
       "      <td>ABE</td>\n",
       "      <td>IAH</td>\n",
       "      <td>1339</td>\n",
       "      <td>13.736264</td>\n",
       "      <td>286.739360</td>\n",
       "      <td>US</td>\n",
       "      <td>US</td>\n",
       "    </tr>\n",
       "    <tr>\n",
       "      <th>4</th>\n",
       "      <td>2008</td>\n",
       "      <td>1</td>\n",
       "      <td>Table 1a</td>\n",
       "      <td>66.67</td>\n",
       "      <td>213.76</td>\n",
       "      <td>33.33</td>\n",
       "      <td>158.97</td>\n",
       "      <td>2200</td>\n",
       "      <td>18500</td>\n",
       "      <td>ABE</td>\n",
       "      <td>MDW</td>\n",
       "      <td>646</td>\n",
       "      <td>0.659341</td>\n",
       "      <td>195.496667</td>\n",
       "      <td>NW</td>\n",
       "      <td>DL</td>\n",
       "    </tr>\n",
       "  </tbody>\n",
       "</table>\n",
       "</div>"
      ],
      "text/plain": [
       "   Year  Quarter       tbl  large_ms  fare_lg  lf_ms  fare_low  origin_cty  \\\n",
       "0  2008        1  Table 1a      0.00     0.00   0.00   9999.00        2200   \n",
       "1  2008        1  Table 1a     36.41   301.27  32.31    282.57        2200   \n",
       "2  2008        1  Table 1a     93.33   308.87  93.33    308.87        2200   \n",
       "3  2008        1  Table 1a     58.40   268.94  58.40    268.94        2200   \n",
       "4  2008        1  Table 1a     66.67   213.76  33.33    158.97        2200   \n",
       "\n",
       "   dest_cty origin_apt dest_apt  distance  passengers        fare carrier_lg  \\\n",
       "0     23210        ABE      DAL      1300    0.109890  393.030000        NaN   \n",
       "1     23210        ABE      DFW      1308   21.428571  294.175180         US   \n",
       "2     37320        ABE      HOU      1351    1.648352  303.341333         DL   \n",
       "3     37320        ABE      IAH      1339   13.736264  286.739360         US   \n",
       "4     18500        ABE      MDW       646    0.659341  195.496667         NW   \n",
       "\n",
       "  carrier_low  \n",
       "0         NaN  \n",
       "1          DL  \n",
       "2          DL  \n",
       "3          US  \n",
       "4          DL  "
      ]
     },
     "execution_count": 52,
     "metadata": {},
     "output_type": "execute_result"
    }
   ],
   "source": [
    "df1.head()"
   ]
  },
  {
   "cell_type": "code",
   "execution_count": 53,
   "metadata": {},
   "outputs": [
    {
     "name": "stdout",
     "output_type": "stream",
     "text": [
      "<class 'pandas.core.frame.DataFrame'>\n",
      "RangeIndex: 1996 entries, 0 to 1995\n",
      "Data columns (total 16 columns):\n",
      "Year           1996 non-null int64\n",
      "Quarter        1996 non-null int64\n",
      "tbl            1996 non-null object\n",
      "large_ms       1996 non-null float64\n",
      "fare_lg        1996 non-null float64\n",
      "lf_ms          1996 non-null float64\n",
      "fare_low       1996 non-null float64\n",
      "origin_cty     1996 non-null int64\n",
      "dest_cty       1996 non-null int64\n",
      "origin_apt     1996 non-null object\n",
      "dest_apt       1996 non-null object\n",
      "distance       1996 non-null int64\n",
      "passengers     1996 non-null float64\n",
      "fare           1996 non-null float64\n",
      "carrier_lg     1970 non-null object\n",
      "carrier_low    1970 non-null object\n",
      "dtypes: float64(6), int64(5), object(5)\n",
      "memory usage: 249.6+ KB\n"
     ]
    }
   ],
   "source": [
    "df1.info()"
   ]
  },
  {
   "cell_type": "code",
   "execution_count": 73,
   "metadata": {},
   "outputs": [
    {
     "name": "stderr",
     "output_type": "stream",
     "text": [
      "/anaconda3/lib/python3.6/site-packages/scipy/stats/stats.py:1713: FutureWarning: Using a non-tuple sequence for multidimensional indexing is deprecated; use `arr[tuple(seq)]` instead of `arr[seq]`. In the future this will be interpreted as an array index, `arr[np.array(seq)]`, which will result either in an error or a different result.\n",
      "  return np.add.reduce(sorted[indexer] * weights, axis=axis) / sumval\n"
     ]
    },
    {
     "data": {
      "text/plain": [
       "<matplotlib.axes._subplots.AxesSubplot at 0x1c2a294ef0>"
      ]
     },
     "execution_count": 73,
     "metadata": {},
     "output_type": "execute_result"
    },
    {
     "data": {
      "image/png": "[encoded data removed]",
      "text/plain": [
       "<Figure size 432x288 with 1 Axes>"
      ]
     },
     "metadata": {
      "needs_background": "light"
     },
     "output_type": "display_data"
    }
   ],
   "source": [
    "sns.barplot(df1['distance'].values,df1['fare'])\n"
   ]
  },
  {
   "cell_type": "code",
   "execution_count": 74,
   "metadata": {},
   "outputs": [
    {
     "data": {
      "text/plain": [
       "861     6\n",
       "1235    6\n",
       "1182    6\n",
       "296     6\n",
       "853     6\n",
       "1028    6\n",
       "914     5\n",
       "284     5\n",
       "772     5\n",
       "927     5\n",
       "945     5\n",
       "1428    5\n",
       "1609    5\n",
       "1048    5\n",
       "829     4\n",
       "501     4\n",
       "963     4\n",
       "886     4\n",
       "1076    4\n",
       "987     4\n",
       "821     4\n",
       "458     4\n",
       "936     4\n",
       "965     4\n",
       "835     4\n",
       "838     4\n",
       "843     4\n",
       "926     4\n",
       "920     4\n",
       "1739    4\n",
       "       ..\n",
       "1143    1\n",
       "1147    1\n",
       "1218    1\n",
       "1148    1\n",
       "1215    1\n",
       "1212    1\n",
       "1210    1\n",
       "1208    1\n",
       "1207    1\n",
       "1205    1\n",
       "1204    1\n",
       "1200    1\n",
       "1197    1\n",
       "1195    1\n",
       "1194    1\n",
       "1192    1\n",
       "1191    1\n",
       "1187    1\n",
       "1185    1\n",
       "1184    1\n",
       "1180    1\n",
       "1173    1\n",
       "1172    1\n",
       "1168    1\n",
       "1167    1\n",
       "1162    1\n",
       "1155    1\n",
       "1150    1\n",
       "1149    1\n",
       "2048    1\n",
       "Name: distance, Length: 1241, dtype: int64"
      ]
     },
     "execution_count": 74,
     "metadata": {},
     "output_type": "execute_result"
    }
   ],
   "source": [
    "df1['distance'].value_counts()"
   ]
  },
  {
   "cell_type": "code",
   "execution_count": null,
   "metadata": {},
   "outputs": [],
   "source": []
  }
 ],
 "metadata": {
  "kernelspec": {
   "display_name": "Python 3",
   "language": "python",
   "name": "python3"
  },
  "language_info": {
   "codemirror_mode": {
    "name": "ipython",
    "version": 3
   },
   "file_extension": ".py",
   "mimetype": "text/x-python",
   "name": "python",
   "nbconvert_exporter": "python",
   "pygments_lexer": "ipython3",
   "version": "3.6.6"
  }
 },
 "nbformat": 4,
 "nbformat_minor": 2
}
